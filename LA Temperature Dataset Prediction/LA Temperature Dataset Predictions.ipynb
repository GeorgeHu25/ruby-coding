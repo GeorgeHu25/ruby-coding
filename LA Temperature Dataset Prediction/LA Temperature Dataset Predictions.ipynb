{
 "cells": [
  {
   "cell_type": "code",
   "execution_count": 1,
   "id": "e6e53fbe",
   "metadata": {},
   "outputs": [],
   "source": [
    "import pandas as pd\n",
    "import numpy as np\n",
    "from sklearn.linear_model import LogisticRegression\n",
    "from sklearn.metrics import accuracy_score\n",
    "from sklearn.model_selection import train_test_split\n",
    "from sklearn.metrics import precision_score\n",
    "from sklearn.metrics import recall_score\n",
    "from sklearn.preprocessing import StandardScaler"
   ]
  },
  {
   "cell_type": "code",
   "execution_count": 2,
   "id": "713098ae",
   "metadata": {},
   "outputs": [],
   "source": [
    "temp = pd.read_csv(r'\\Users\\George Hu\\Downloads\\CaliTemp.csv')"
   ]
  },
  {
   "cell_type": "code",
   "execution_count": 3,
   "id": "a3fe76ae",
   "metadata": {},
   "outputs": [],
   "source": [
    "temp = temp.drop([\"Los Angeles\", \"Los Angeles.1\"], axis = 1)"
   ]
  },
  {
   "cell_type": "code",
   "execution_count": 4,
   "id": "3f2bdf9c",
   "metadata": {
    "scrolled": false
   },
   "outputs": [],
   "source": [
    "temp = temp.loc[9:23]"
   ]
  },
  {
   "cell_type": "code",
   "execution_count": 5,
   "id": "f88a662d",
   "metadata": {},
   "outputs": [],
   "source": [
    "temp = temp.rename(columns={\"location\":\"Date\",\"Los Angeles.2\":\"LA_Temperature\"})"
   ]
  },
  {
   "cell_type": "code",
   "execution_count": 6,
   "id": "d576ceab",
   "metadata": {},
   "outputs": [],
   "source": [
    "temp['Date'] = temp['Date'].str.replace(r'T0000','')"
   ]
  },
  {
   "cell_type": "code",
   "execution_count": 7,
   "id": "4dcb2c6f",
   "metadata": {},
   "outputs": [],
   "source": [
    "temp[\"Date\"] = temp[\"Date\"].str[:4] + \"-\" + temp[\"Date\"].str[4:6] + \"-\" + temp[\"Date\"].str[6:8]"
   ]
  },
  {
   "cell_type": "code",
   "execution_count": 8,
   "id": "1bcef695",
   "metadata": {
    "scrolled": true
   },
   "outputs": [
    {
     "data": {
      "text/html": [
       "<div>\n",
       "<style scoped>\n",
       "    .dataframe tbody tr th:only-of-type {\n",
       "        vertical-align: middle;\n",
       "    }\n",
       "\n",
       "    .dataframe tbody tr th {\n",
       "        vertical-align: top;\n",
       "    }\n",
       "\n",
       "    .dataframe thead th {\n",
       "        text-align: right;\n",
       "    }\n",
       "</style>\n",
       "<table border=\"1\" class=\"dataframe\">\n",
       "  <thead>\n",
       "    <tr style=\"text-align: right;\">\n",
       "      <th></th>\n",
       "      <th>index</th>\n",
       "      <th>Date</th>\n",
       "      <th>LA_Temperature</th>\n",
       "    </tr>\n",
       "  </thead>\n",
       "  <tbody>\n",
       "    <tr>\n",
       "      <th>0</th>\n",
       "      <td>9</td>\n",
       "      <td>2021-12-16</td>\n",
       "      <td>51.315693</td>\n",
       "    </tr>\n",
       "    <tr>\n",
       "      <th>1</th>\n",
       "      <td>10</td>\n",
       "      <td>2021-12-17</td>\n",
       "      <td>54.567684</td>\n",
       "    </tr>\n",
       "    <tr>\n",
       "      <th>2</th>\n",
       "      <td>11</td>\n",
       "      <td>2021-12-18</td>\n",
       "      <td>51.243694</td>\n",
       "    </tr>\n",
       "    <tr>\n",
       "      <th>3</th>\n",
       "      <td>12</td>\n",
       "      <td>2021-12-19</td>\n",
       "      <td>52.0417</td>\n",
       "    </tr>\n",
       "    <tr>\n",
       "      <th>4</th>\n",
       "      <td>13</td>\n",
       "      <td>2021-12-20</td>\n",
       "      <td>54.191193</td>\n",
       "    </tr>\n",
       "    <tr>\n",
       "      <th>5</th>\n",
       "      <td>14</td>\n",
       "      <td>2021-12-21</td>\n",
       "      <td>58.452694</td>\n",
       "    </tr>\n",
       "    <tr>\n",
       "      <th>6</th>\n",
       "      <td>15</td>\n",
       "      <td>2021-12-22</td>\n",
       "      <td>58.013187</td>\n",
       "    </tr>\n",
       "    <tr>\n",
       "      <th>7</th>\n",
       "      <td>16</td>\n",
       "      <td>2021-12-23</td>\n",
       "      <td>54.55869</td>\n",
       "    </tr>\n",
       "    <tr>\n",
       "      <th>8</th>\n",
       "      <td>17</td>\n",
       "      <td>2021-12-24</td>\n",
       "      <td>55.3822</td>\n",
       "    </tr>\n",
       "    <tr>\n",
       "      <th>9</th>\n",
       "      <td>18</td>\n",
       "      <td>2021-12-25</td>\n",
       "      <td>52.079193</td>\n",
       "    </tr>\n",
       "    <tr>\n",
       "      <th>10</th>\n",
       "      <td>19</td>\n",
       "      <td>2021-12-26</td>\n",
       "      <td>50.969936</td>\n",
       "    </tr>\n",
       "    <tr>\n",
       "      <th>11</th>\n",
       "      <td>20</td>\n",
       "      <td>2021-12-27</td>\n",
       "      <td>49.20819</td>\n",
       "    </tr>\n",
       "    <tr>\n",
       "      <th>12</th>\n",
       "      <td>21</td>\n",
       "      <td>2021-12-28</td>\n",
       "      <td>48.82794</td>\n",
       "    </tr>\n",
       "    <tr>\n",
       "      <th>13</th>\n",
       "      <td>22</td>\n",
       "      <td>2021-12-29</td>\n",
       "      <td>49.235195</td>\n",
       "    </tr>\n",
       "  </tbody>\n",
       "</table>\n",
       "</div>"
      ],
      "text/plain": [
       "    index        Date LA_Temperature\n",
       "0       9  2021-12-16      51.315693\n",
       "1      10  2021-12-17      54.567684\n",
       "2      11  2021-12-18      51.243694\n",
       "3      12  2021-12-19        52.0417\n",
       "4      13  2021-12-20      54.191193\n",
       "5      14  2021-12-21      58.452694\n",
       "6      15  2021-12-22      58.013187\n",
       "7      16  2021-12-23       54.55869\n",
       "8      17  2021-12-24        55.3822\n",
       "9      18  2021-12-25      52.079193\n",
       "10     19  2021-12-26      50.969936\n",
       "11     20  2021-12-27       49.20819\n",
       "12     21  2021-12-28       48.82794\n",
       "13     22  2021-12-29      49.235195"
      ]
     },
     "execution_count": 8,
     "metadata": {},
     "output_type": "execute_result"
    }
   ],
   "source": [
    "temp = temp.reset_index()\n",
    "temp"
   ]
  },
  {
   "cell_type": "code",
   "execution_count": 9,
   "id": "02a75436",
   "metadata": {
    "scrolled": true
   },
   "outputs": [],
   "source": [
    "temp = temp.drop([\"index\"], axis = 1)"
   ]
  },
  {
   "cell_type": "code",
   "execution_count": 10,
   "id": "dedb6b79",
   "metadata": {},
   "outputs": [],
   "source": [
    "temp['Date'] = temp['Date'].str.replace(r'2021-12-','')"
   ]
  },
  {
   "cell_type": "code",
   "execution_count": 11,
   "id": "e0406cc0",
   "metadata": {},
   "outputs": [],
   "source": [
    "temp[\"Date\"] = pd.to_numeric(temp[\"Date\"])"
   ]
  },
  {
   "cell_type": "code",
   "execution_count": 12,
   "id": "db61cf40",
   "metadata": {
    "scrolled": true
   },
   "outputs": [
    {
     "name": "stderr",
     "output_type": "stream",
     "text": [
      "C:\\Users\\George Hu\\anaconda3\\lib\\site-packages\\sklearn\\utils\\validation.py:63: DataConversionWarning: A column-vector y was passed when a 1d array was expected. Please change the shape of y to (n_samples, ), for example using ravel().\n",
      "  return f(*args, **kwargs)\n"
     ]
    },
    {
     "data": {
      "text/html": [
       "<div>\n",
       "<style scoped>\n",
       "    .dataframe tbody tr th:only-of-type {\n",
       "        vertical-align: middle;\n",
       "    }\n",
       "\n",
       "    .dataframe tbody tr th {\n",
       "        vertical-align: top;\n",
       "    }\n",
       "\n",
       "    .dataframe thead tr th {\n",
       "        text-align: left;\n",
       "    }\n",
       "</style>\n",
       "<table border=\"1\" class=\"dataframe\">\n",
       "  <thead>\n",
       "    <tr>\n",
       "      <th></th>\n",
       "      <th>True</th>\n",
       "      <th>Prediction</th>\n",
       "    </tr>\n",
       "  </thead>\n",
       "  <tbody>\n",
       "    <tr>\n",
       "      <th>0</th>\n",
       "      <td>54.55869</td>\n",
       "      <td>55.3822</td>\n",
       "    </tr>\n",
       "    <tr>\n",
       "      <th>1</th>\n",
       "      <td>50.969936</td>\n",
       "      <td>49.235195</td>\n",
       "    </tr>\n",
       "    <tr>\n",
       "      <th>2</th>\n",
       "      <td>54.191193</td>\n",
       "      <td>54.567684</td>\n",
       "    </tr>\n",
       "    <tr>\n",
       "      <th>3</th>\n",
       "      <td>51.315693</td>\n",
       "      <td>54.567684</td>\n",
       "    </tr>\n",
       "  </tbody>\n",
       "</table>\n",
       "</div>"
      ],
      "text/plain": [
       "        True Prediction\n",
       "0   54.55869    55.3822\n",
       "1  50.969936  49.235195\n",
       "2  54.191193  54.567684\n",
       "3  51.315693  54.567684"
      ]
     },
     "execution_count": 12,
     "metadata": {},
     "output_type": "execute_result"
    }
   ],
   "source": [
    "x = temp[\"Date\"]\n",
    "y = temp[\"LA_Temperature\"]\n",
    "x_train, x_test, y_train, y_test = train_test_split(x,y, test_size=0.25, random_state=123)\n",
    "x_train = pd.Series(x_train).array\n",
    "x_test = pd.Series(x_test).array\n",
    "y_train = pd.Series(y_train).array\n",
    "x_train = x_train.reshape(-1,1)\n",
    "x_test = x_test.reshape(-1,1)\n",
    "y_train = y_train.reshape(-1,1)\n",
    "scaler = StandardScaler()\n",
    "scaler.fit(x_train)\n",
    "x_train = scaler.transform(x_train)\n",
    "x_test = scaler.transform(x_test)\n",
    "LRmodel = LogisticRegression()\n",
    "LRmodel.fit(x_train, y_train)\n",
    "y_pred = pd.Series(LRmodel.predict(x_test))\n",
    "y_test = y_test.reset_index(drop=True)\n",
    "z = pd.concat([y_test, y_pred], axis = 1)\n",
    "z.columns = [[\"True\",\"Prediction\"]]\n",
    "z.head()"
   ]
  },
  {
   "cell_type": "code",
   "execution_count": null,
   "id": "778a7e0d",
   "metadata": {},
   "outputs": [],
   "source": []
  }
 ],
 "metadata": {
  "kernelspec": {
   "display_name": "Python 3 (ipykernel)",
   "language": "python",
   "name": "python3"
  },
  "language_info": {
   "codemirror_mode": {
    "name": "ipython",
    "version": 3
   },
   "file_extension": ".py",
   "mimetype": "text/x-python",
   "name": "python",
   "nbconvert_exporter": "python",
   "pygments_lexer": "ipython3",
   "version": "3.9.7"
  }
 },
 "nbformat": 4,
 "nbformat_minor": 5
}
